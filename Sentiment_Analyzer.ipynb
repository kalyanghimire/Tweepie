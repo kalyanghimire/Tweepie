{
  "nbformat": 4,
  "nbformat_minor": 0,
  "metadata": {
    "colab": {
      "name": "Sentiment Analyzer.ipynb",
      "provenance": [],
      "collapsed_sections": []
    },
    "kernelspec": {
      "name": "python3",
      "display_name": "Python 3"
    }
  },
  "cells": [
    {
      "cell_type": "code",
      "metadata": {
        "id": "s1zoqnsadwDl",
        "colab_type": "code",
        "colab": {
          "base_uri": "https://localhost:8080/",
          "height": 272
        },
        "outputId": "7f10a225-d899-4394-af77-a0bb12ae4005"
      },
      "source": [
        "!python -m textblob.download_corpora\n",
        "import matplotlib.pyplot as plt\n",
        "import tweepy \n",
        "import pandas as pd\n",
        "import numpy as np\n",
        "from textblob import TextBlob\n",
        "%matplotlib inline \n",
        "consumer_key= '********************'\n",
        "consumer_secret= \"************************\"\n",
        "access_token= \"*********************************\"\n",
        "access_token_secret= \"********************\"\n",
        "# Instead of the key * is shown because of security purposes\n",
        "auth=tweepy.OAuthHandler(consumer_key,consumer_secret)\n",
        "auth.set_access_token(access_token,access_token_secret)\n",
        "api=tweepy.API(auth)\n",
        "\n",
        "\n"
      ],
      "execution_count": 4,
      "outputs": [
        {
          "output_type": "stream",
          "text": [
            "[nltk_data] Downloading package brown to /root/nltk_data...\n",
            "[nltk_data]   Package brown is already up-to-date!\n",
            "[nltk_data] Downloading package punkt to /root/nltk_data...\n",
            "[nltk_data]   Package punkt is already up-to-date!\n",
            "[nltk_data] Downloading package wordnet to /root/nltk_data...\n",
            "[nltk_data]   Package wordnet is already up-to-date!\n",
            "[nltk_data] Downloading package averaged_perceptron_tagger to\n",
            "[nltk_data]     /root/nltk_data...\n",
            "[nltk_data]   Package averaged_perceptron_tagger is already up-to-\n",
            "[nltk_data]       date!\n",
            "[nltk_data] Downloading package conll2000 to /root/nltk_data...\n",
            "[nltk_data]   Package conll2000 is already up-to-date!\n",
            "[nltk_data] Downloading package movie_reviews to /root/nltk_data...\n",
            "[nltk_data]   Package movie_reviews is already up-to-date!\n",
            "Finished.\n"
          ],
          "name": "stdout"
        }
      ]
    },
    {
      "cell_type": "code",
      "metadata": {
        "id": "s_qiAVYneVqm",
        "colab_type": "code",
        "colab": {
          "base_uri": "https://localhost:8080/",
          "height": 316
        },
        "outputId": "c89e153d-5db8-4279-86f9-68d0e07961e2"
      },
      "source": [
        "print(\"The topic on which you want to find the sentiment of twitter users on:\")\n",
        "tweet_input=input()\n",
        "tweet_input= tweet_input + \"-filter:retweets\"\n",
        "print(\"Enter the date in format YY-MM-DD\")\n",
        "date_since=input()\n",
        "public_tweets= tweepy.Cursor(api.search,q=tweet_input,lang=\"en\",since=date_since).items(1000)\n",
        "tweets_from_input=[[tweet.text,tweet.user.screen_name,tweet.user.location] for tweet in public_tweets]\n",
        "\n",
        "df=pd.DataFrame.from_records(tweets_from_input)\n",
        "\n",
        "sentiments_are=[]\n",
        "b=0\n",
        "c=0\n",
        "d=0\n",
        "for tweetss in df[0]:\n",
        "  blob=TextBlob(tweetss)\n",
        "  for sentence in blob.sentences:\n",
        "    sentiments_are.append(sentence.sentiment.polarity)\n",
        "\n",
        "\n",
        "for i in sentiments_are:\n",
        "  if (i > 0):\n",
        "    b=b+1\n",
        "  elif (i < 0):\n",
        "    c=c+1\n",
        "  elif (i == 0.0): \n",
        "    d=d+1\n",
        "\n",
        "\n",
        "Text=TextBlob(tweet_input).sentiment.polarity\n",
        "if Text > 0:\n",
        "  b=b*1.1\n",
        "  c=c*1\n",
        "  d=d*0.7\n",
        "elif Text < 0:\n",
        "  b=b*0.75\n",
        "  c=c*1.25\n",
        "  d=d*0.7  \n",
        "else:\n",
        "  b=b*0.80\n",
        "  c=c*1.2\n",
        "  d=d*0.7\n",
        "that=[b,c,d]\n",
        "happy_sad_neutral=that\n",
        "happy_sad_neutral\n",
        "labels='Good','Bad','Neutral'\n",
        "sizes=happy_sad_neutral\n",
        "fig1,ax1=plt.subplots()\n",
        "ax1.pie(sizes,labels=labels,colors=['green', 'red', 'grey'],\n",
        "        shadow=True, startangle=90)\n",
        "ax1.axis('equal') \n",
        "plt.show()\n"
      ],
      "execution_count": 7,
      "outputs": [
        {
          "output_type": "stream",
          "text": [
            "The topic on which you want to find the sentiment of twitter users on:\n",
            "Trump\n",
            "Enter the date in format YY-MM-DD\n",
            "2020-06-01\n"
          ],
          "name": "stdout"
        },
        {
          "output_type": "display_data",
          "data": {
            "image/png": "[encoded data removed]",
            "text/plain": [
              "<Figure size 432x288 with 1 Axes>"
            ]
          },
          "metadata": {
            "tags": []
          }
        }
      ]
    },
    {
      "cell_type": "code",
      "metadata": {
        "id": "TOkBnM_V4x_m",
        "colab_type": "code",
        "colab": {}
      },
      "source": [
        ""
      ],
      "execution_count": 0,
      "outputs": []
    }
  ]
}